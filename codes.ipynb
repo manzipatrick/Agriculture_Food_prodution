{
 "cells": [
  {
   "cell_type": "code",
   "execution_count": 1,
   "id": "6621af38",
   "metadata": {},
   "outputs": [],
   "source": [
    "import pandas as pd\n",
    "import matplotlib.pyplot as plt\n",
    "import numpy as np\n",
    "import seaborn as sns \n",
    "from sklearn.preprocessing import StandardScaler, LabelEncoder"
   ]
  },
  {
   "cell_type": "markdown",
   "id": "287b1c6a",
   "metadata": {},
   "source": [
    "loading dataset"
   ]
  },
  {
   "cell_type": "code",
   "execution_count": 2,
   "id": "14976d37",
   "metadata": {},
   "outputs": [],
   "source": [
    "data=pd.read_csv('SYB61_12_Agricultural Production Indices.csv', encoding = \"ISO-8859-1\", skiprows=1)"
   ]
  },
  {
   "cell_type": "markdown",
   "id": "010a8404",
   "metadata": {},
   "source": [
    "# Perform a cursory examination of the CSV file to get a feel"
   ]
  },
  {
   "cell_type": "code",
   "execution_count": 3,
   "id": "b151b113",
   "metadata": {},
   "outputs": [
    {
     "data": {
      "text/plain": [
       "(3760, 7)"
      ]
     },
     "execution_count": 3,
     "metadata": {},
     "output_type": "execute_result"
    }
   ],
   "source": [
    "#data size\n",
    "data.shape"
   ]
  },
  {
   "cell_type": "code",
   "execution_count": 4,
   "id": "b14365d8",
   "metadata": {},
   "outputs": [
    {
     "name": "stdout",
     "output_type": "stream",
     "text": [
      "['Region/Country/Area', 'Unnamed: 1', 'Year', 'Series', 'Value', 'Footnotes', 'Source']\n"
     ]
    }
   ],
   "source": [
    "#Features/attributes/fields\n",
    "print( list(data.columns)   )"
   ]
  },
  {
   "cell_type": "code",
   "execution_count": 5,
   "id": "ca988d6c",
   "metadata": {},
   "outputs": [
    {
     "data": {
      "text/html": [
       "<div>\n",
       "<style scoped>\n",
       "    .dataframe tbody tr th:only-of-type {\n",
       "        vertical-align: middle;\n",
       "    }\n",
       "\n",
       "    .dataframe tbody tr th {\n",
       "        vertical-align: top;\n",
       "    }\n",
       "\n",
       "    .dataframe thead th {\n",
       "        text-align: right;\n",
       "    }\n",
       "</style>\n",
       "<table border=\"1\" class=\"dataframe\">\n",
       "  <thead>\n",
       "    <tr style=\"text-align: right;\">\n",
       "      <th></th>\n",
       "      <th>Region/Country/Area</th>\n",
       "      <th>Unnamed: 1</th>\n",
       "      <th>Year</th>\n",
       "      <th>Series</th>\n",
       "      <th>Value</th>\n",
       "      <th>Footnotes</th>\n",
       "      <th>Source</th>\n",
       "    </tr>\n",
       "  </thead>\n",
       "  <tbody>\n",
       "    <tr>\n",
       "      <th>0</th>\n",
       "      <td>1</td>\n",
       "      <td>Total, all countries or areas</td>\n",
       "      <td>1975</td>\n",
       "      <td>Agricultural production (Index Base: 2004-2006...</td>\n",
       "      <td>51.3</td>\n",
       "      <td>NaN</td>\n",
       "      <td>Food and Agriculture Organization of the Unite...</td>\n",
       "    </tr>\n",
       "    <tr>\n",
       "      <th>1</th>\n",
       "      <td>1</td>\n",
       "      <td>Total, all countries or areas</td>\n",
       "      <td>1985</td>\n",
       "      <td>Agricultural production (Index Base: 2004-2006...</td>\n",
       "      <td>65.5</td>\n",
       "      <td>NaN</td>\n",
       "      <td>Food and Agriculture Organization of the Unite...</td>\n",
       "    </tr>\n",
       "    <tr>\n",
       "      <th>2</th>\n",
       "      <td>1</td>\n",
       "      <td>Total, all countries or areas</td>\n",
       "      <td>1995</td>\n",
       "      <td>Agricultural production (Index Base: 2004-2006...</td>\n",
       "      <td>78.3</td>\n",
       "      <td>NaN</td>\n",
       "      <td>Food and Agriculture Organization of the Unite...</td>\n",
       "    </tr>\n",
       "    <tr>\n",
       "      <th>3</th>\n",
       "      <td>1</td>\n",
       "      <td>Total, all countries or areas</td>\n",
       "      <td>2005</td>\n",
       "      <td>Agricultural production (Index Base: 2004-2006...</td>\n",
       "      <td>99.9</td>\n",
       "      <td>NaN</td>\n",
       "      <td>Food and Agriculture Organization of the Unite...</td>\n",
       "    </tr>\n",
       "    <tr>\n",
       "      <th>4</th>\n",
       "      <td>1</td>\n",
       "      <td>Total, all countries or areas</td>\n",
       "      <td>2010</td>\n",
       "      <td>Agricultural production (Index Base: 2004-2006...</td>\n",
       "      <td>112.9</td>\n",
       "      <td>NaN</td>\n",
       "      <td>Food and Agriculture Organization of the Unite...</td>\n",
       "    </tr>\n",
       "    <tr>\n",
       "      <th>5</th>\n",
       "      <td>1</td>\n",
       "      <td>Total, all countries or areas</td>\n",
       "      <td>2014</td>\n",
       "      <td>Agricultural production (Index Base: 2004-2006...</td>\n",
       "      <td>124.6</td>\n",
       "      <td>NaN</td>\n",
       "      <td>Food and Agriculture Organization of the Unite...</td>\n",
       "    </tr>\n",
       "    <tr>\n",
       "      <th>6</th>\n",
       "      <td>1</td>\n",
       "      <td>Total, all countries or areas</td>\n",
       "      <td>2015</td>\n",
       "      <td>Agricultural production (Index Base: 2004-2006...</td>\n",
       "      <td>125.9</td>\n",
       "      <td>NaN</td>\n",
       "      <td>Food and Agriculture Organization of the Unite...</td>\n",
       "    </tr>\n",
       "    <tr>\n",
       "      <th>7</th>\n",
       "      <td>1</td>\n",
       "      <td>Total, all countries or areas</td>\n",
       "      <td>2016</td>\n",
       "      <td>Agricultural production (Index Base: 2004-2006...</td>\n",
       "      <td>127.3</td>\n",
       "      <td>NaN</td>\n",
       "      <td>Food and Agriculture Organization of the Unite...</td>\n",
       "    </tr>\n",
       "    <tr>\n",
       "      <th>8</th>\n",
       "      <td>1</td>\n",
       "      <td>Total, all countries or areas</td>\n",
       "      <td>1975</td>\n",
       "      <td>Food production (Index Base: 2004-2006 = 100)</td>\n",
       "      <td>51.0</td>\n",
       "      <td>NaN</td>\n",
       "      <td>Food and Agriculture Organization of the Unite...</td>\n",
       "    </tr>\n",
       "    <tr>\n",
       "      <th>9</th>\n",
       "      <td>1</td>\n",
       "      <td>Total, all countries or areas</td>\n",
       "      <td>1985</td>\n",
       "      <td>Food production (Index Base: 2004-2006 = 100)</td>\n",
       "      <td>65.0</td>\n",
       "      <td>NaN</td>\n",
       "      <td>Food and Agriculture Organization of the Unite...</td>\n",
       "    </tr>\n",
       "  </tbody>\n",
       "</table>\n",
       "</div>"
      ],
      "text/plain": [
       "   Region/Country/Area                     Unnamed: 1  Year  \\\n",
       "0                    1  Total, all countries or areas  1975   \n",
       "1                    1  Total, all countries or areas  1985   \n",
       "2                    1  Total, all countries or areas  1995   \n",
       "3                    1  Total, all countries or areas  2005   \n",
       "4                    1  Total, all countries or areas  2010   \n",
       "5                    1  Total, all countries or areas  2014   \n",
       "6                    1  Total, all countries or areas  2015   \n",
       "7                    1  Total, all countries or areas  2016   \n",
       "8                    1  Total, all countries or areas  1975   \n",
       "9                    1  Total, all countries or areas  1985   \n",
       "\n",
       "                                              Series  Value Footnotes  \\\n",
       "0  Agricultural production (Index Base: 2004-2006...   51.3       NaN   \n",
       "1  Agricultural production (Index Base: 2004-2006...   65.5       NaN   \n",
       "2  Agricultural production (Index Base: 2004-2006...   78.3       NaN   \n",
       "3  Agricultural production (Index Base: 2004-2006...   99.9       NaN   \n",
       "4  Agricultural production (Index Base: 2004-2006...  112.9       NaN   \n",
       "5  Agricultural production (Index Base: 2004-2006...  124.6       NaN   \n",
       "6  Agricultural production (Index Base: 2004-2006...  125.9       NaN   \n",
       "7  Agricultural production (Index Base: 2004-2006...  127.3       NaN   \n",
       "8      Food production (Index Base: 2004-2006 = 100)   51.0       NaN   \n",
       "9      Food production (Index Base: 2004-2006 = 100)   65.0       NaN   \n",
       "\n",
       "                                              Source  \n",
       "0  Food and Agriculture Organization of the Unite...  \n",
       "1  Food and Agriculture Organization of the Unite...  \n",
       "2  Food and Agriculture Organization of the Unite...  \n",
       "3  Food and Agriculture Organization of the Unite...  \n",
       "4  Food and Agriculture Organization of the Unite...  \n",
       "5  Food and Agriculture Organization of the Unite...  \n",
       "6  Food and Agriculture Organization of the Unite...  \n",
       "7  Food and Agriculture Organization of the Unite...  \n",
       "8  Food and Agriculture Organization of the Unite...  \n",
       "9  Food and Agriculture Organization of the Unite...  "
      ]
     },
     "execution_count": 5,
     "metadata": {},
     "output_type": "execute_result"
    }
   ],
   "source": [
    "data.head(10)"
   ]
  },
  {
   "cell_type": "code",
   "execution_count": 6,
   "id": "c80b5642",
   "metadata": {},
   "outputs": [
    {
     "data": {
      "text/html": [
       "<div>\n",
       "<style scoped>\n",
       "    .dataframe tbody tr th:only-of-type {\n",
       "        vertical-align: middle;\n",
       "    }\n",
       "\n",
       "    .dataframe tbody tr th {\n",
       "        vertical-align: top;\n",
       "    }\n",
       "\n",
       "    .dataframe thead th {\n",
       "        text-align: right;\n",
       "    }\n",
       "</style>\n",
       "<table border=\"1\" class=\"dataframe\">\n",
       "  <thead>\n",
       "    <tr style=\"text-align: right;\">\n",
       "      <th></th>\n",
       "      <th>Region/Country/Area</th>\n",
       "      <th>Unnamed: 1</th>\n",
       "      <th>Year</th>\n",
       "      <th>Series</th>\n",
       "      <th>Value</th>\n",
       "      <th>Footnotes</th>\n",
       "      <th>Source</th>\n",
       "    </tr>\n",
       "  </thead>\n",
       "  <tbody>\n",
       "    <tr>\n",
       "      <th>3750</th>\n",
       "      <td>97</td>\n",
       "      <td>European Union (EU)</td>\n",
       "      <td>2015</td>\n",
       "      <td>Agricultural production (Index Base: 2004-2006...</td>\n",
       "      <td>103.2</td>\n",
       "      <td>NaN</td>\n",
       "      <td>Food and Agriculture Organization of the Unite...</td>\n",
       "    </tr>\n",
       "    <tr>\n",
       "      <th>3751</th>\n",
       "      <td>97</td>\n",
       "      <td>European Union (EU)</td>\n",
       "      <td>2016</td>\n",
       "      <td>Agricultural production (Index Base: 2004-2006...</td>\n",
       "      <td>101.8</td>\n",
       "      <td>NaN</td>\n",
       "      <td>Food and Agriculture Organization of the Unite...</td>\n",
       "    </tr>\n",
       "    <tr>\n",
       "      <th>3752</th>\n",
       "      <td>97</td>\n",
       "      <td>European Union (EU)</td>\n",
       "      <td>1975</td>\n",
       "      <td>Food production (Index Base: 2004-2006 = 100)</td>\n",
       "      <td>83.0</td>\n",
       "      <td>NaN</td>\n",
       "      <td>Food and Agriculture Organization of the Unite...</td>\n",
       "    </tr>\n",
       "    <tr>\n",
       "      <th>3753</th>\n",
       "      <td>97</td>\n",
       "      <td>European Union (EU)</td>\n",
       "      <td>1985</td>\n",
       "      <td>Food production (Index Base: 2004-2006 = 100)</td>\n",
       "      <td>95.6</td>\n",
       "      <td>NaN</td>\n",
       "      <td>Food and Agriculture Organization of the Unite...</td>\n",
       "    </tr>\n",
       "    <tr>\n",
       "      <th>3754</th>\n",
       "      <td>97</td>\n",
       "      <td>European Union (EU)</td>\n",
       "      <td>1995</td>\n",
       "      <td>Food production (Index Base: 2004-2006 = 100)</td>\n",
       "      <td>95.2</td>\n",
       "      <td>NaN</td>\n",
       "      <td>Food and Agriculture Organization of the Unite...</td>\n",
       "    </tr>\n",
       "    <tr>\n",
       "      <th>3755</th>\n",
       "      <td>97</td>\n",
       "      <td>European Union (EU)</td>\n",
       "      <td>2005</td>\n",
       "      <td>Food production (Index Base: 2004-2006 = 100)</td>\n",
       "      <td>99.0</td>\n",
       "      <td>NaN</td>\n",
       "      <td>Food and Agriculture Organization of the Unite...</td>\n",
       "    </tr>\n",
       "    <tr>\n",
       "      <th>3756</th>\n",
       "      <td>97</td>\n",
       "      <td>European Union (EU)</td>\n",
       "      <td>2010</td>\n",
       "      <td>Food production (Index Base: 2004-2006 = 100)</td>\n",
       "      <td>99.9</td>\n",
       "      <td>NaN</td>\n",
       "      <td>Food and Agriculture Organization of the Unite...</td>\n",
       "    </tr>\n",
       "    <tr>\n",
       "      <th>3757</th>\n",
       "      <td>97</td>\n",
       "      <td>European Union (EU)</td>\n",
       "      <td>2014</td>\n",
       "      <td>Food production (Index Base: 2004-2006 = 100)</td>\n",
       "      <td>103.6</td>\n",
       "      <td>NaN</td>\n",
       "      <td>Food and Agriculture Organization of the Unite...</td>\n",
       "    </tr>\n",
       "    <tr>\n",
       "      <th>3758</th>\n",
       "      <td>97</td>\n",
       "      <td>European Union (EU)</td>\n",
       "      <td>2015</td>\n",
       "      <td>Food production (Index Base: 2004-2006 = 100)</td>\n",
       "      <td>103.4</td>\n",
       "      <td>NaN</td>\n",
       "      <td>Food and Agriculture Organization of the Unite...</td>\n",
       "    </tr>\n",
       "    <tr>\n",
       "      <th>3759</th>\n",
       "      <td>97</td>\n",
       "      <td>European Union (EU)</td>\n",
       "      <td>2016</td>\n",
       "      <td>Food production (Index Base: 2004-2006 = 100)</td>\n",
       "      <td>102.0</td>\n",
       "      <td>NaN</td>\n",
       "      <td>Food and Agriculture Organization of the Unite...</td>\n",
       "    </tr>\n",
       "  </tbody>\n",
       "</table>\n",
       "</div>"
      ],
      "text/plain": [
       "      Region/Country/Area           Unnamed: 1  Year  \\\n",
       "3750                   97  European Union (EU)  2015   \n",
       "3751                   97  European Union (EU)  2016   \n",
       "3752                   97  European Union (EU)  1975   \n",
       "3753                   97  European Union (EU)  1985   \n",
       "3754                   97  European Union (EU)  1995   \n",
       "3755                   97  European Union (EU)  2005   \n",
       "3756                   97  European Union (EU)  2010   \n",
       "3757                   97  European Union (EU)  2014   \n",
       "3758                   97  European Union (EU)  2015   \n",
       "3759                   97  European Union (EU)  2016   \n",
       "\n",
       "                                                 Series  Value Footnotes  \\\n",
       "3750  Agricultural production (Index Base: 2004-2006...  103.2       NaN   \n",
       "3751  Agricultural production (Index Base: 2004-2006...  101.8       NaN   \n",
       "3752      Food production (Index Base: 2004-2006 = 100)   83.0       NaN   \n",
       "3753      Food production (Index Base: 2004-2006 = 100)   95.6       NaN   \n",
       "3754      Food production (Index Base: 2004-2006 = 100)   95.2       NaN   \n",
       "3755      Food production (Index Base: 2004-2006 = 100)   99.0       NaN   \n",
       "3756      Food production (Index Base: 2004-2006 = 100)   99.9       NaN   \n",
       "3757      Food production (Index Base: 2004-2006 = 100)  103.6       NaN   \n",
       "3758      Food production (Index Base: 2004-2006 = 100)  103.4       NaN   \n",
       "3759      Food production (Index Base: 2004-2006 = 100)  102.0       NaN   \n",
       "\n",
       "                                                 Source  \n",
       "3750  Food and Agriculture Organization of the Unite...  \n",
       "3751  Food and Agriculture Organization of the Unite...  \n",
       "3752  Food and Agriculture Organization of the Unite...  \n",
       "3753  Food and Agriculture Organization of the Unite...  \n",
       "3754  Food and Agriculture Organization of the Unite...  \n",
       "3755  Food and Agriculture Organization of the Unite...  \n",
       "3756  Food and Agriculture Organization of the Unite...  \n",
       "3757  Food and Agriculture Organization of the Unite...  \n",
       "3758  Food and Agriculture Organization of the Unite...  \n",
       "3759  Food and Agriculture Organization of the Unite...  "
      ]
     },
     "execution_count": 6,
     "metadata": {},
     "output_type": "execute_result"
    }
   ],
   "source": [
    "data.tail(10)"
   ]
  },
  {
   "cell_type": "code",
   "execution_count": 7,
   "id": "47a923e7",
   "metadata": {},
   "outputs": [
    {
     "data": {
      "text/html": [
       "<div>\n",
       "<style scoped>\n",
       "    .dataframe tbody tr th:only-of-type {\n",
       "        vertical-align: middle;\n",
       "    }\n",
       "\n",
       "    .dataframe tbody tr th {\n",
       "        vertical-align: top;\n",
       "    }\n",
       "\n",
       "    .dataframe thead th {\n",
       "        text-align: right;\n",
       "    }\n",
       "</style>\n",
       "<table border=\"1\" class=\"dataframe\">\n",
       "  <thead>\n",
       "    <tr style=\"text-align: right;\">\n",
       "      <th></th>\n",
       "      <th>Region/Country/Area</th>\n",
       "      <th>Unnamed: 1</th>\n",
       "      <th>Year</th>\n",
       "      <th>Series</th>\n",
       "      <th>Value</th>\n",
       "      <th>Footnotes</th>\n",
       "      <th>Source</th>\n",
       "    </tr>\n",
       "  </thead>\n",
       "  <tbody>\n",
       "    <tr>\n",
       "      <th>2983</th>\n",
       "      <td>670</td>\n",
       "      <td>Saint Vincent &amp; Grenadines</td>\n",
       "      <td>2014</td>\n",
       "      <td>Food production (Index Base: 2004-2006 = 100)</td>\n",
       "      <td>114.0</td>\n",
       "      <td>NaN</td>\n",
       "      <td>Food and Agriculture Organization of the Unite...</td>\n",
       "    </tr>\n",
       "    <tr>\n",
       "      <th>497</th>\n",
       "      <td>16</td>\n",
       "      <td>American Samoa</td>\n",
       "      <td>2014</td>\n",
       "      <td>Agricultural production (Index Base: 2004-2006...</td>\n",
       "      <td>112.0</td>\n",
       "      <td>NaN</td>\n",
       "      <td>Food and Agriculture Organization of the Unite...</td>\n",
       "    </tr>\n",
       "    <tr>\n",
       "      <th>3138</th>\n",
       "      <td>90</td>\n",
       "      <td>Solomon Islands</td>\n",
       "      <td>2010</td>\n",
       "      <td>Agricultural production (Index Base: 2004-2006...</td>\n",
       "      <td>110.8</td>\n",
       "      <td>NaN</td>\n",
       "      <td>Food and Agriculture Organization of the Unite...</td>\n",
       "    </tr>\n",
       "    <tr>\n",
       "      <th>1182</th>\n",
       "      <td>191</td>\n",
       "      <td>Croatia</td>\n",
       "      <td>2010</td>\n",
       "      <td>Food production (Index Base: 2004-2006 = 100)</td>\n",
       "      <td>111.1</td>\n",
       "      <td>NaN</td>\n",
       "      <td>Food and Agriculture Organization of the Unite...</td>\n",
       "    </tr>\n",
       "    <tr>\n",
       "      <th>2911</th>\n",
       "      <td>646</td>\n",
       "      <td>Rwanda</td>\n",
       "      <td>2014</td>\n",
       "      <td>Agricultural production (Index Base: 2004-2006...</td>\n",
       "      <td>153.6</td>\n",
       "      <td>NaN</td>\n",
       "      <td>Food and Agriculture Organization of the Unite...</td>\n",
       "    </tr>\n",
       "    <tr>\n",
       "      <th>3385</th>\n",
       "      <td>772</td>\n",
       "      <td>Tokelau</td>\n",
       "      <td>2014</td>\n",
       "      <td>Food production (Index Base: 2004-2006 = 100)</td>\n",
       "      <td>112.0</td>\n",
       "      <td>NaN</td>\n",
       "      <td>Food and Agriculture Organization of the Unite...</td>\n",
       "    </tr>\n",
       "    <tr>\n",
       "      <th>1401</th>\n",
       "      <td>232</td>\n",
       "      <td>Eritrea</td>\n",
       "      <td>2016</td>\n",
       "      <td>Food production (Index Base: 2004-2006 = 100)</td>\n",
       "      <td>104.3</td>\n",
       "      <td>NaN</td>\n",
       "      <td>Food and Agriculture Organization of the Unite...</td>\n",
       "    </tr>\n",
       "    <tr>\n",
       "      <th>796</th>\n",
       "      <td>72</td>\n",
       "      <td>Botswana</td>\n",
       "      <td>2015</td>\n",
       "      <td>Agricultural production (Index Base: 2004-2006...</td>\n",
       "      <td>115.7</td>\n",
       "      <td>NaN</td>\n",
       "      <td>Food and Agriculture Organization of the Unite...</td>\n",
       "    </tr>\n",
       "    <tr>\n",
       "      <th>504</th>\n",
       "      <td>16</td>\n",
       "      <td>American Samoa</td>\n",
       "      <td>2010</td>\n",
       "      <td>Food production (Index Base: 2004-2006 = 100)</td>\n",
       "      <td>110.1</td>\n",
       "      <td>NaN</td>\n",
       "      <td>Food and Agriculture Organization of the Unite...</td>\n",
       "    </tr>\n",
       "    <tr>\n",
       "      <th>2233</th>\n",
       "      <td>458</td>\n",
       "      <td>Malaysia</td>\n",
       "      <td>1985</td>\n",
       "      <td>Agricultural production (Index Base: 2004-2006...</td>\n",
       "      <td>46.9</td>\n",
       "      <td>NaN</td>\n",
       "      <td>Food and Agriculture Organization of the Unite...</td>\n",
       "    </tr>\n",
       "    <tr>\n",
       "      <th>3276</th>\n",
       "      <td>756</td>\n",
       "      <td>Switzerland</td>\n",
       "      <td>1975</td>\n",
       "      <td>Food production (Index Base: 2004-2006 = 100)</td>\n",
       "      <td>97.6</td>\n",
       "      <td>NaN</td>\n",
       "      <td>Food and Agriculture Organization of the Unite...</td>\n",
       "    </tr>\n",
       "    <tr>\n",
       "      <th>2102</th>\n",
       "      <td>422</td>\n",
       "      <td>Lebanon</td>\n",
       "      <td>2010</td>\n",
       "      <td>Agricultural production (Index Base: 2004-2006...</td>\n",
       "      <td>93.3</td>\n",
       "      <td>NaN</td>\n",
       "      <td>Food and Agriculture Organization of the Unite...</td>\n",
       "    </tr>\n",
       "    <tr>\n",
       "      <th>1060</th>\n",
       "      <td>344</td>\n",
       "      <td>China, Hong Kong SAR</td>\n",
       "      <td>2015</td>\n",
       "      <td>Food production (Index Base: 2004-2006 = 100)</td>\n",
       "      <td>59.0</td>\n",
       "      <td>NaN</td>\n",
       "      <td>Food and Agriculture Organization of the Unite...</td>\n",
       "    </tr>\n",
       "    <tr>\n",
       "      <th>1699</th>\n",
       "      <td>316</td>\n",
       "      <td>Guam</td>\n",
       "      <td>2014</td>\n",
       "      <td>Agricultural production (Index Base: 2004-2006...</td>\n",
       "      <td>88.2</td>\n",
       "      <td>NaN</td>\n",
       "      <td>Food and Agriculture Organization of the Unite...</td>\n",
       "    </tr>\n",
       "    <tr>\n",
       "      <th>1878</th>\n",
       "      <td>364</td>\n",
       "      <td>Iran (Islamic Republic of)</td>\n",
       "      <td>1975</td>\n",
       "      <td>Food production (Index Base: 2004-2006 = 100)</td>\n",
       "      <td>25.6</td>\n",
       "      <td>NaN</td>\n",
       "      <td>Food and Agriculture Organization of the Unite...</td>\n",
       "    </tr>\n",
       "  </tbody>\n",
       "</table>\n",
       "</div>"
      ],
      "text/plain": [
       "      Region/Country/Area                  Unnamed: 1  Year  \\\n",
       "2983                  670  Saint Vincent & Grenadines  2014   \n",
       "497                    16              American Samoa  2014   \n",
       "3138                   90             Solomon Islands  2010   \n",
       "1182                  191                     Croatia  2010   \n",
       "2911                  646                      Rwanda  2014   \n",
       "3385                  772                     Tokelau  2014   \n",
       "1401                  232                     Eritrea  2016   \n",
       "796                    72                    Botswana  2015   \n",
       "504                    16              American Samoa  2010   \n",
       "2233                  458                    Malaysia  1985   \n",
       "3276                  756                 Switzerland  1975   \n",
       "2102                  422                     Lebanon  2010   \n",
       "1060                  344        China, Hong Kong SAR  2015   \n",
       "1699                  316                        Guam  2014   \n",
       "1878                  364  Iran (Islamic Republic of)  1975   \n",
       "\n",
       "                                                 Series  Value Footnotes  \\\n",
       "2983      Food production (Index Base: 2004-2006 = 100)  114.0       NaN   \n",
       "497   Agricultural production (Index Base: 2004-2006...  112.0       NaN   \n",
       "3138  Agricultural production (Index Base: 2004-2006...  110.8       NaN   \n",
       "1182      Food production (Index Base: 2004-2006 = 100)  111.1       NaN   \n",
       "2911  Agricultural production (Index Base: 2004-2006...  153.6       NaN   \n",
       "3385      Food production (Index Base: 2004-2006 = 100)  112.0       NaN   \n",
       "1401      Food production (Index Base: 2004-2006 = 100)  104.3       NaN   \n",
       "796   Agricultural production (Index Base: 2004-2006...  115.7       NaN   \n",
       "504       Food production (Index Base: 2004-2006 = 100)  110.1       NaN   \n",
       "2233  Agricultural production (Index Base: 2004-2006...   46.9       NaN   \n",
       "3276      Food production (Index Base: 2004-2006 = 100)   97.6       NaN   \n",
       "2102  Agricultural production (Index Base: 2004-2006...   93.3       NaN   \n",
       "1060      Food production (Index Base: 2004-2006 = 100)   59.0       NaN   \n",
       "1699  Agricultural production (Index Base: 2004-2006...   88.2       NaN   \n",
       "1878      Food production (Index Base: 2004-2006 = 100)   25.6       NaN   \n",
       "\n",
       "                                                 Source  \n",
       "2983  Food and Agriculture Organization of the Unite...  \n",
       "497   Food and Agriculture Organization of the Unite...  \n",
       "3138  Food and Agriculture Organization of the Unite...  \n",
       "1182  Food and Agriculture Organization of the Unite...  \n",
       "2911  Food and Agriculture Organization of the Unite...  \n",
       "3385  Food and Agriculture Organization of the Unite...  \n",
       "1401  Food and Agriculture Organization of the Unite...  \n",
       "796   Food and Agriculture Organization of the Unite...  \n",
       "504   Food and Agriculture Organization of the Unite...  \n",
       "2233  Food and Agriculture Organization of the Unite...  \n",
       "3276  Food and Agriculture Organization of the Unite...  \n",
       "2102  Food and Agriculture Organization of the Unite...  \n",
       "1060  Food and Agriculture Organization of the Unite...  \n",
       "1699  Food and Agriculture Organization of the Unite...  \n",
       "1878  Food and Agriculture Organization of the Unite...  "
      ]
     },
     "execution_count": 7,
     "metadata": {},
     "output_type": "execute_result"
    }
   ],
   "source": [
    "data.sample(15)"
   ]
  },
  {
   "cell_type": "code",
   "execution_count": 56,
   "id": "d3e4293d",
   "metadata": {},
   "outputs": [
    {
     "name": "stdout",
     "output_type": "stream",
     "text": [
      "['Food and Agriculture Organization of the United Nations (FAO), Rome, FAOSTAT database, last accessed May 2018.']\n",
      "\n",
      "\n",
      "\n",
      "[nan, 'For statistical purposes, the data for China do not include those for the Hong Kong Special Administrative Region (Hong Kong SAR), Macao Special Administrative Region (Macao SAR) and Taiwan Province of China.']\n"
     ]
    }
   ],
   "source": [
    "# Here we start to think that the source column has a single value for all rows. From the analysis that we have tried to check on\n",
    "\n",
    "# The proof is\n",
    "print(list(data['Source'].unique()))\n",
    "\n",
    "print(\"\\n\\n\")\n",
    "\n",
    "\n",
    "# From the cursory analysis, we thought that Footnotes is null for all records, but we confirmed with :\n",
    "print(list(data['Footnotes'].unique()))\n",
    "\n",
    "\n",
    "# The answer is that there is some values somewhere"
   ]
  },
  {
   "cell_type": "code",
   "execution_count": 9,
   "id": "0e5a813c",
   "metadata": {},
   "outputs": [],
   "source": [
    "#Does footnote colmn contain Nan only\n",
    "checkNaN=data.isna()\n",
    "NaNStatus=checkNaN['Footnotes']\n",
    "data['NaNStatus']=NaNStatus"
   ]
  },
  {
   "cell_type": "code",
   "execution_count": 10,
   "id": "1aad3b66",
   "metadata": {},
   "outputs": [
    {
     "data": {
      "text/html": [
       "<div>\n",
       "<style scoped>\n",
       "    .dataframe tbody tr th:only-of-type {\n",
       "        vertical-align: middle;\n",
       "    }\n",
       "\n",
       "    .dataframe tbody tr th {\n",
       "        vertical-align: top;\n",
       "    }\n",
       "\n",
       "    .dataframe thead th {\n",
       "        text-align: right;\n",
       "    }\n",
       "</style>\n",
       "<table border=\"1\" class=\"dataframe\">\n",
       "  <thead>\n",
       "    <tr style=\"text-align: right;\">\n",
       "      <th></th>\n",
       "      <th>Region/Country/Area</th>\n",
       "      <th>Unnamed: 1</th>\n",
       "      <th>Year</th>\n",
       "      <th>Series</th>\n",
       "      <th>Value</th>\n",
       "      <th>Footnotes</th>\n",
       "      <th>Source</th>\n",
       "      <th>NaNStatus</th>\n",
       "    </tr>\n",
       "  </thead>\n",
       "  <tbody>\n",
       "    <tr>\n",
       "      <th>1030</th>\n",
       "      <td>156</td>\n",
       "      <td>China</td>\n",
       "      <td>1975</td>\n",
       "      <td>Agricultural production (Index Base: 2004-2006...</td>\n",
       "      <td>25.5</td>\n",
       "      <td>For statistical purposes, the data for China d...</td>\n",
       "      <td>Food and Agriculture Organization of the Unite...</td>\n",
       "      <td>False</td>\n",
       "    </tr>\n",
       "    <tr>\n",
       "      <th>1031</th>\n",
       "      <td>156</td>\n",
       "      <td>China</td>\n",
       "      <td>1985</td>\n",
       "      <td>Agricultural production (Index Base: 2004-2006...</td>\n",
       "      <td>40.4</td>\n",
       "      <td>For statistical purposes, the data for China d...</td>\n",
       "      <td>Food and Agriculture Organization of the Unite...</td>\n",
       "      <td>False</td>\n",
       "    </tr>\n",
       "    <tr>\n",
       "      <th>1032</th>\n",
       "      <td>156</td>\n",
       "      <td>China</td>\n",
       "      <td>1995</td>\n",
       "      <td>Agricultural production (Index Base: 2004-2006...</td>\n",
       "      <td>67.4</td>\n",
       "      <td>For statistical purposes, the data for China d...</td>\n",
       "      <td>Food and Agriculture Organization of the Unite...</td>\n",
       "      <td>False</td>\n",
       "    </tr>\n",
       "    <tr>\n",
       "      <th>1033</th>\n",
       "      <td>156</td>\n",
       "      <td>China</td>\n",
       "      <td>2005</td>\n",
       "      <td>Agricultural production (Index Base: 2004-2006...</td>\n",
       "      <td>100.2</td>\n",
       "      <td>For statistical purposes, the data for China d...</td>\n",
       "      <td>Food and Agriculture Organization of the Unite...</td>\n",
       "      <td>False</td>\n",
       "    </tr>\n",
       "    <tr>\n",
       "      <th>1034</th>\n",
       "      <td>156</td>\n",
       "      <td>China</td>\n",
       "      <td>2010</td>\n",
       "      <td>Agricultural production (Index Base: 2004-2006...</td>\n",
       "      <td>119.9</td>\n",
       "      <td>For statistical purposes, the data for China d...</td>\n",
       "      <td>Food and Agriculture Organization of the Unite...</td>\n",
       "      <td>False</td>\n",
       "    </tr>\n",
       "    <tr>\n",
       "      <th>1035</th>\n",
       "      <td>156</td>\n",
       "      <td>China</td>\n",
       "      <td>2014</td>\n",
       "      <td>Agricultural production (Index Base: 2004-2006...</td>\n",
       "      <td>132.9</td>\n",
       "      <td>For statistical purposes, the data for China d...</td>\n",
       "      <td>Food and Agriculture Organization of the Unite...</td>\n",
       "      <td>False</td>\n",
       "    </tr>\n",
       "    <tr>\n",
       "      <th>1036</th>\n",
       "      <td>156</td>\n",
       "      <td>China</td>\n",
       "      <td>2015</td>\n",
       "      <td>Agricultural production (Index Base: 2004-2006...</td>\n",
       "      <td>136.5</td>\n",
       "      <td>For statistical purposes, the data for China d...</td>\n",
       "      <td>Food and Agriculture Organization of the Unite...</td>\n",
       "      <td>False</td>\n",
       "    </tr>\n",
       "    <tr>\n",
       "      <th>1037</th>\n",
       "      <td>156</td>\n",
       "      <td>China</td>\n",
       "      <td>2016</td>\n",
       "      <td>Agricultural production (Index Base: 2004-2006...</td>\n",
       "      <td>139.2</td>\n",
       "      <td>For statistical purposes, the data for China d...</td>\n",
       "      <td>Food and Agriculture Organization of the Unite...</td>\n",
       "      <td>False</td>\n",
       "    </tr>\n",
       "    <tr>\n",
       "      <th>1038</th>\n",
       "      <td>156</td>\n",
       "      <td>China</td>\n",
       "      <td>1975</td>\n",
       "      <td>Food production (Index Base: 2004-2006 = 100)</td>\n",
       "      <td>25.2</td>\n",
       "      <td>For statistical purposes, the data for China d...</td>\n",
       "      <td>Food and Agriculture Organization of the Unite...</td>\n",
       "      <td>False</td>\n",
       "    </tr>\n",
       "    <tr>\n",
       "      <th>1039</th>\n",
       "      <td>156</td>\n",
       "      <td>China</td>\n",
       "      <td>1985</td>\n",
       "      <td>Food production (Index Base: 2004-2006 = 100)</td>\n",
       "      <td>39.2</td>\n",
       "      <td>For statistical purposes, the data for China d...</td>\n",
       "      <td>Food and Agriculture Organization of the Unite...</td>\n",
       "      <td>False</td>\n",
       "    </tr>\n",
       "    <tr>\n",
       "      <th>1040</th>\n",
       "      <td>156</td>\n",
       "      <td>China</td>\n",
       "      <td>1995</td>\n",
       "      <td>Food production (Index Base: 2004-2006 = 100)</td>\n",
       "      <td>66.9</td>\n",
       "      <td>For statistical purposes, the data for China d...</td>\n",
       "      <td>Food and Agriculture Organization of the Unite...</td>\n",
       "      <td>False</td>\n",
       "    </tr>\n",
       "    <tr>\n",
       "      <th>1041</th>\n",
       "      <td>156</td>\n",
       "      <td>China</td>\n",
       "      <td>2005</td>\n",
       "      <td>Food production (Index Base: 2004-2006 = 100)</td>\n",
       "      <td>100.3</td>\n",
       "      <td>For statistical purposes, the data for China d...</td>\n",
       "      <td>Food and Agriculture Organization of the Unite...</td>\n",
       "      <td>False</td>\n",
       "    </tr>\n",
       "    <tr>\n",
       "      <th>1042</th>\n",
       "      <td>156</td>\n",
       "      <td>China</td>\n",
       "      <td>2010</td>\n",
       "      <td>Food production (Index Base: 2004-2006 = 100)</td>\n",
       "      <td>120.5</td>\n",
       "      <td>For statistical purposes, the data for China d...</td>\n",
       "      <td>Food and Agriculture Organization of the Unite...</td>\n",
       "      <td>False</td>\n",
       "    </tr>\n",
       "    <tr>\n",
       "      <th>1043</th>\n",
       "      <td>156</td>\n",
       "      <td>China</td>\n",
       "      <td>2014</td>\n",
       "      <td>Food production (Index Base: 2004-2006 = 100)</td>\n",
       "      <td>133.8</td>\n",
       "      <td>For statistical purposes, the data for China d...</td>\n",
       "      <td>Food and Agriculture Organization of the Unite...</td>\n",
       "      <td>False</td>\n",
       "    </tr>\n",
       "    <tr>\n",
       "      <th>1044</th>\n",
       "      <td>156</td>\n",
       "      <td>China</td>\n",
       "      <td>2015</td>\n",
       "      <td>Food production (Index Base: 2004-2006 = 100)</td>\n",
       "      <td>137.5</td>\n",
       "      <td>For statistical purposes, the data for China d...</td>\n",
       "      <td>Food and Agriculture Organization of the Unite...</td>\n",
       "      <td>False</td>\n",
       "    </tr>\n",
       "    <tr>\n",
       "      <th>1045</th>\n",
       "      <td>156</td>\n",
       "      <td>China</td>\n",
       "      <td>2016</td>\n",
       "      <td>Food production (Index Base: 2004-2006 = 100)</td>\n",
       "      <td>140.3</td>\n",
       "      <td>For statistical purposes, the data for China d...</td>\n",
       "      <td>Food and Agriculture Organization of the Unite...</td>\n",
       "      <td>False</td>\n",
       "    </tr>\n",
       "  </tbody>\n",
       "</table>\n",
       "</div>"
      ],
      "text/plain": [
       "      Region/Country/Area Unnamed: 1  Year  \\\n",
       "1030                  156      China  1975   \n",
       "1031                  156      China  1985   \n",
       "1032                  156      China  1995   \n",
       "1033                  156      China  2005   \n",
       "1034                  156      China  2010   \n",
       "1035                  156      China  2014   \n",
       "1036                  156      China  2015   \n",
       "1037                  156      China  2016   \n",
       "1038                  156      China  1975   \n",
       "1039                  156      China  1985   \n",
       "1040                  156      China  1995   \n",
       "1041                  156      China  2005   \n",
       "1042                  156      China  2010   \n",
       "1043                  156      China  2014   \n",
       "1044                  156      China  2015   \n",
       "1045                  156      China  2016   \n",
       "\n",
       "                                                 Series  Value  \\\n",
       "1030  Agricultural production (Index Base: 2004-2006...   25.5   \n",
       "1031  Agricultural production (Index Base: 2004-2006...   40.4   \n",
       "1032  Agricultural production (Index Base: 2004-2006...   67.4   \n",
       "1033  Agricultural production (Index Base: 2004-2006...  100.2   \n",
       "1034  Agricultural production (Index Base: 2004-2006...  119.9   \n",
       "1035  Agricultural production (Index Base: 2004-2006...  132.9   \n",
       "1036  Agricultural production (Index Base: 2004-2006...  136.5   \n",
       "1037  Agricultural production (Index Base: 2004-2006...  139.2   \n",
       "1038      Food production (Index Base: 2004-2006 = 100)   25.2   \n",
       "1039      Food production (Index Base: 2004-2006 = 100)   39.2   \n",
       "1040      Food production (Index Base: 2004-2006 = 100)   66.9   \n",
       "1041      Food production (Index Base: 2004-2006 = 100)  100.3   \n",
       "1042      Food production (Index Base: 2004-2006 = 100)  120.5   \n",
       "1043      Food production (Index Base: 2004-2006 = 100)  133.8   \n",
       "1044      Food production (Index Base: 2004-2006 = 100)  137.5   \n",
       "1045      Food production (Index Base: 2004-2006 = 100)  140.3   \n",
       "\n",
       "                                              Footnotes  \\\n",
       "1030  For statistical purposes, the data for China d...   \n",
       "1031  For statistical purposes, the data for China d...   \n",
       "1032  For statistical purposes, the data for China d...   \n",
       "1033  For statistical purposes, the data for China d...   \n",
       "1034  For statistical purposes, the data for China d...   \n",
       "1035  For statistical purposes, the data for China d...   \n",
       "1036  For statistical purposes, the data for China d...   \n",
       "1037  For statistical purposes, the data for China d...   \n",
       "1038  For statistical purposes, the data for China d...   \n",
       "1039  For statistical purposes, the data for China d...   \n",
       "1040  For statistical purposes, the data for China d...   \n",
       "1041  For statistical purposes, the data for China d...   \n",
       "1042  For statistical purposes, the data for China d...   \n",
       "1043  For statistical purposes, the data for China d...   \n",
       "1044  For statistical purposes, the data for China d...   \n",
       "1045  For statistical purposes, the data for China d...   \n",
       "\n",
       "                                                 Source  NaNStatus  \n",
       "1030  Food and Agriculture Organization of the Unite...      False  \n",
       "1031  Food and Agriculture Organization of the Unite...      False  \n",
       "1032  Food and Agriculture Organization of the Unite...      False  \n",
       "1033  Food and Agriculture Organization of the Unite...      False  \n",
       "1034  Food and Agriculture Organization of the Unite...      False  \n",
       "1035  Food and Agriculture Organization of the Unite...      False  \n",
       "1036  Food and Agriculture Organization of the Unite...      False  \n",
       "1037  Food and Agriculture Organization of the Unite...      False  \n",
       "1038  Food and Agriculture Organization of the Unite...      False  \n",
       "1039  Food and Agriculture Organization of the Unite...      False  \n",
       "1040  Food and Agriculture Organization of the Unite...      False  \n",
       "1041  Food and Agriculture Organization of the Unite...      False  \n",
       "1042  Food and Agriculture Organization of the Unite...      False  \n",
       "1043  Food and Agriculture Organization of the Unite...      False  \n",
       "1044  Food and Agriculture Organization of the Unite...      False  \n",
       "1045  Food and Agriculture Organization of the Unite...      False  "
      ]
     },
     "execution_count": 10,
     "metadata": {},
     "output_type": "execute_result"
    }
   ],
   "source": [
    "data[data['NaNStatus']==False]\n",
    "#only 16 records are not Nan for footnote"
   ]
  },
  {
   "cell_type": "code",
   "execution_count": 11,
   "id": "fa4ae044",
   "metadata": {},
   "outputs": [
    {
     "name": "stdout",
     "output_type": "stream",
     "text": [
      "<class 'pandas.core.frame.DataFrame'>\n",
      "RangeIndex: 3760 entries, 0 to 3759\n",
      "Data columns (total 8 columns):\n",
      " #   Column               Non-Null Count  Dtype  \n",
      "---  ------               --------------  -----  \n",
      " 0   Region/Country/Area  3760 non-null   int64  \n",
      " 1   Unnamed: 1           3760 non-null   object \n",
      " 2   Year                 3760 non-null   int64  \n",
      " 3   Series               3760 non-null   object \n",
      " 4   Value                3760 non-null   float64\n",
      " 5   Footnotes            16 non-null     object \n",
      " 6   Source               3760 non-null   object \n",
      " 7   NaNStatus            3760 non-null   bool   \n",
      "dtypes: bool(1), float64(1), int64(2), object(4)\n",
      "memory usage: 209.4+ KB\n"
     ]
    }
   ],
   "source": [
    "#Data types\n",
    "data.info()"
   ]
  },
  {
   "cell_type": "code",
   "execution_count": 12,
   "id": "f6dc0286",
   "metadata": {},
   "outputs": [
    {
     "data": {
      "text/html": [
       "<div>\n",
       "<style scoped>\n",
       "    .dataframe tbody tr th:only-of-type {\n",
       "        vertical-align: middle;\n",
       "    }\n",
       "\n",
       "    .dataframe tbody tr th {\n",
       "        vertical-align: top;\n",
       "    }\n",
       "\n",
       "    .dataframe thead th {\n",
       "        text-align: right;\n",
       "    }\n",
       "</style>\n",
       "<table border=\"1\" class=\"dataframe\">\n",
       "  <thead>\n",
       "    <tr style=\"text-align: right;\">\n",
       "      <th></th>\n",
       "      <th>Region/Country/Area</th>\n",
       "      <th>Year</th>\n",
       "      <th>Value</th>\n",
       "    </tr>\n",
       "  </thead>\n",
       "  <tbody>\n",
       "    <tr>\n",
       "      <th>count</th>\n",
       "      <td>3760.000000</td>\n",
       "      <td>3760.000000</td>\n",
       "      <td>3760.000000</td>\n",
       "    </tr>\n",
       "    <tr>\n",
       "      <th>mean</th>\n",
       "      <td>383.629787</td>\n",
       "      <td>2002.563830</td>\n",
       "      <td>101.135399</td>\n",
       "    </tr>\n",
       "    <tr>\n",
       "      <th>std</th>\n",
       "      <td>266.669445</td>\n",
       "      <td>14.012238</td>\n",
       "      <td>41.989354</td>\n",
       "    </tr>\n",
       "    <tr>\n",
       "      <th>min</th>\n",
       "      <td>1.000000</td>\n",
       "      <td>1975.000000</td>\n",
       "      <td>2.200000</td>\n",
       "    </tr>\n",
       "    <tr>\n",
       "      <th>25%</th>\n",
       "      <td>144.000000</td>\n",
       "      <td>1995.000000</td>\n",
       "      <td>82.750000</td>\n",
       "    </tr>\n",
       "    <tr>\n",
       "      <th>50%</th>\n",
       "      <td>368.000000</td>\n",
       "      <td>2010.000000</td>\n",
       "      <td>100.700000</td>\n",
       "    </tr>\n",
       "    <tr>\n",
       "      <th>75%</th>\n",
       "      <td>616.000000</td>\n",
       "      <td>2015.000000</td>\n",
       "      <td>117.000000</td>\n",
       "    </tr>\n",
       "    <tr>\n",
       "      <th>max</th>\n",
       "      <td>894.000000</td>\n",
       "      <td>2016.000000</td>\n",
       "      <td>973.700000</td>\n",
       "    </tr>\n",
       "  </tbody>\n",
       "</table>\n",
       "</div>"
      ],
      "text/plain": [
       "       Region/Country/Area         Year        Value\n",
       "count          3760.000000  3760.000000  3760.000000\n",
       "mean            383.629787  2002.563830   101.135399\n",
       "std             266.669445    14.012238    41.989354\n",
       "min               1.000000  1975.000000     2.200000\n",
       "25%             144.000000  1995.000000    82.750000\n",
       "50%             368.000000  2010.000000   100.700000\n",
       "75%             616.000000  2015.000000   117.000000\n",
       "max             894.000000  2016.000000   973.700000"
      ]
     },
     "execution_count": 12,
     "metadata": {},
     "output_type": "execute_result"
    }
   ],
   "source": [
    "#Basic statistics\n",
    "data.describe()"
   ]
  },
  {
   "cell_type": "code",
   "execution_count": 57,
   "id": "0b678ad7",
   "metadata": {},
   "outputs": [
    {
     "name": "stdout",
     "output_type": "stream",
     "text": [
      "DATA INFORMATION Using df.info() \n",
      "\n",
      "<class 'pandas.core.frame.DataFrame'>\n",
      "RangeIndex: 3760 entries, 0 to 3759\n",
      "Data columns (total 8 columns):\n",
      " #   Column               Non-Null Count  Dtype  \n",
      "---  ------               --------------  -----  \n",
      " 0   Region/Country/Area  3760 non-null   int64  \n",
      " 1   region               3760 non-null   object \n",
      " 2   Year                 3760 non-null   int64  \n",
      " 3   Series               3760 non-null   int32  \n",
      " 4   Value                3760 non-null   float64\n",
      " 5   Footnotes            16 non-null     object \n",
      " 6   Source               3760 non-null   object \n",
      " 7   NaNStatus            3760 non-null   bool   \n",
      "dtypes: bool(1), float64(1), int32(1), int64(2), object(3)\n",
      "memory usage: 194.7+ KB\n",
      "None\n",
      "\n",
      " \n",
      " \n",
      " \n",
      "DATA DESCRIPTION Using df.describe() function \n",
      "\n",
      "       Region/Country/Area         Year       Series        Value\n",
      "count          3760.000000  3760.000000  3760.000000  3760.000000\n",
      "mean            383.629787  2002.563830     0.500000   101.135399\n",
      "std             266.669445    14.012238     0.500067    41.989354\n",
      "min               1.000000  1975.000000     0.000000     2.200000\n",
      "25%             144.000000  1995.000000     0.000000    82.750000\n",
      "50%             368.000000  2010.000000     0.500000   100.700000\n",
      "75%             616.000000  2015.000000     1.000000   117.000000\n",
      "max             894.000000  2016.000000     1.000000   973.700000\n"
     ]
    }
   ],
   "source": [
    "# from the above work, only 16 records (1030-1045) are not NaN for their footnotes.\n",
    "\n",
    "# Here is the general summary of our data's information.\n",
    "print(\"DATA INFORMATION Using df.info() \\n\")\n",
    "print(data.info())\n",
    "\n",
    "print(\"\\n \\n \\n \\nDATA DESCRIPTION Using df.describe() function \\n\")\n",
    "print(data.describe())"
   ]
  },
  {
   "cell_type": "code",
   "execution_count": 13,
   "id": "485926f3",
   "metadata": {},
   "outputs": [
    {
     "data": {
      "text/html": [
       "<div>\n",
       "<style scoped>\n",
       "    .dataframe tbody tr th:only-of-type {\n",
       "        vertical-align: middle;\n",
       "    }\n",
       "\n",
       "    .dataframe tbody tr th {\n",
       "        vertical-align: top;\n",
       "    }\n",
       "\n",
       "    .dataframe thead th {\n",
       "        text-align: right;\n",
       "    }\n",
       "</style>\n",
       "<table border=\"1\" class=\"dataframe\">\n",
       "  <thead>\n",
       "    <tr style=\"text-align: right;\">\n",
       "      <th></th>\n",
       "      <th>Region/Country/Area</th>\n",
       "      <th>Unnamed: 1</th>\n",
       "      <th>Year</th>\n",
       "      <th>Series</th>\n",
       "      <th>Value</th>\n",
       "      <th>Footnotes</th>\n",
       "      <th>Source</th>\n",
       "      <th>NaNStatus</th>\n",
       "    </tr>\n",
       "  </thead>\n",
       "  <tbody>\n",
       "    <tr>\n",
       "      <th>16</th>\n",
       "      <td>2</td>\n",
       "      <td>Africa</td>\n",
       "      <td>1975</td>\n",
       "      <td>Agricultural production (Index Base: 2004-2006...</td>\n",
       "      <td>42.6</td>\n",
       "      <td>NaN</td>\n",
       "      <td>Food and Agriculture Organization of the Unite...</td>\n",
       "      <td>True</td>\n",
       "    </tr>\n",
       "    <tr>\n",
       "      <th>17</th>\n",
       "      <td>2</td>\n",
       "      <td>Africa</td>\n",
       "      <td>1985</td>\n",
       "      <td>Agricultural production (Index Base: 2004-2006...</td>\n",
       "      <td>50.4</td>\n",
       "      <td>NaN</td>\n",
       "      <td>Food and Agriculture Organization of the Unite...</td>\n",
       "      <td>True</td>\n",
       "    </tr>\n",
       "    <tr>\n",
       "      <th>18</th>\n",
       "      <td>2</td>\n",
       "      <td>Africa</td>\n",
       "      <td>1995</td>\n",
       "      <td>Agricultural production (Index Base: 2004-2006...</td>\n",
       "      <td>68.8</td>\n",
       "      <td>NaN</td>\n",
       "      <td>Food and Agriculture Organization of the Unite...</td>\n",
       "      <td>True</td>\n",
       "    </tr>\n",
       "    <tr>\n",
       "      <th>19</th>\n",
       "      <td>2</td>\n",
       "      <td>Africa</td>\n",
       "      <td>2005</td>\n",
       "      <td>Agricultural production (Index Base: 2004-2006...</td>\n",
       "      <td>100.0</td>\n",
       "      <td>NaN</td>\n",
       "      <td>Food and Agriculture Organization of the Unite...</td>\n",
       "      <td>True</td>\n",
       "    </tr>\n",
       "    <tr>\n",
       "      <th>20</th>\n",
       "      <td>2</td>\n",
       "      <td>Africa</td>\n",
       "      <td>2010</td>\n",
       "      <td>Agricultural production (Index Base: 2004-2006...</td>\n",
       "      <td>117.0</td>\n",
       "      <td>NaN</td>\n",
       "      <td>Food and Agriculture Organization of the Unite...</td>\n",
       "      <td>True</td>\n",
       "    </tr>\n",
       "    <tr>\n",
       "      <th>21</th>\n",
       "      <td>2</td>\n",
       "      <td>Africa</td>\n",
       "      <td>2014</td>\n",
       "      <td>Agricultural production (Index Base: 2004-2006...</td>\n",
       "      <td>129.0</td>\n",
       "      <td>NaN</td>\n",
       "      <td>Food and Agriculture Organization of the Unite...</td>\n",
       "      <td>True</td>\n",
       "    </tr>\n",
       "    <tr>\n",
       "      <th>22</th>\n",
       "      <td>2</td>\n",
       "      <td>Africa</td>\n",
       "      <td>2015</td>\n",
       "      <td>Agricultural production (Index Base: 2004-2006...</td>\n",
       "      <td>130.8</td>\n",
       "      <td>NaN</td>\n",
       "      <td>Food and Agriculture Organization of the Unite...</td>\n",
       "      <td>True</td>\n",
       "    </tr>\n",
       "    <tr>\n",
       "      <th>23</th>\n",
       "      <td>2</td>\n",
       "      <td>Africa</td>\n",
       "      <td>2016</td>\n",
       "      <td>Agricultural production (Index Base: 2004-2006...</td>\n",
       "      <td>129.9</td>\n",
       "      <td>NaN</td>\n",
       "      <td>Food and Agriculture Organization of the Unite...</td>\n",
       "      <td>True</td>\n",
       "    </tr>\n",
       "    <tr>\n",
       "      <th>24</th>\n",
       "      <td>2</td>\n",
       "      <td>Africa</td>\n",
       "      <td>1975</td>\n",
       "      <td>Food production (Index Base: 2004-2006 = 100)</td>\n",
       "      <td>41.4</td>\n",
       "      <td>NaN</td>\n",
       "      <td>Food and Agriculture Organization of the Unite...</td>\n",
       "      <td>True</td>\n",
       "    </tr>\n",
       "    <tr>\n",
       "      <th>25</th>\n",
       "      <td>2</td>\n",
       "      <td>Africa</td>\n",
       "      <td>1985</td>\n",
       "      <td>Food production (Index Base: 2004-2006 = 100)</td>\n",
       "      <td>49.3</td>\n",
       "      <td>NaN</td>\n",
       "      <td>Food and Agriculture Organization of the Unite...</td>\n",
       "      <td>True</td>\n",
       "    </tr>\n",
       "    <tr>\n",
       "      <th>26</th>\n",
       "      <td>2</td>\n",
       "      <td>Africa</td>\n",
       "      <td>1995</td>\n",
       "      <td>Food production (Index Base: 2004-2006 = 100)</td>\n",
       "      <td>68.3</td>\n",
       "      <td>NaN</td>\n",
       "      <td>Food and Agriculture Organization of the Unite...</td>\n",
       "      <td>True</td>\n",
       "    </tr>\n",
       "    <tr>\n",
       "      <th>27</th>\n",
       "      <td>2</td>\n",
       "      <td>Africa</td>\n",
       "      <td>2005</td>\n",
       "      <td>Food production (Index Base: 2004-2006 = 100)</td>\n",
       "      <td>99.9</td>\n",
       "      <td>NaN</td>\n",
       "      <td>Food and Agriculture Organization of the Unite...</td>\n",
       "      <td>True</td>\n",
       "    </tr>\n",
       "    <tr>\n",
       "      <th>28</th>\n",
       "      <td>2</td>\n",
       "      <td>Africa</td>\n",
       "      <td>2010</td>\n",
       "      <td>Food production (Index Base: 2004-2006 = 100)</td>\n",
       "      <td>117.8</td>\n",
       "      <td>NaN</td>\n",
       "      <td>Food and Agriculture Organization of the Unite...</td>\n",
       "      <td>True</td>\n",
       "    </tr>\n",
       "    <tr>\n",
       "      <th>29</th>\n",
       "      <td>2</td>\n",
       "      <td>Africa</td>\n",
       "      <td>2014</td>\n",
       "      <td>Food production (Index Base: 2004-2006 = 100)</td>\n",
       "      <td>129.7</td>\n",
       "      <td>NaN</td>\n",
       "      <td>Food and Agriculture Organization of the Unite...</td>\n",
       "      <td>True</td>\n",
       "    </tr>\n",
       "    <tr>\n",
       "      <th>30</th>\n",
       "      <td>2</td>\n",
       "      <td>Africa</td>\n",
       "      <td>2015</td>\n",
       "      <td>Food production (Index Base: 2004-2006 = 100)</td>\n",
       "      <td>131.5</td>\n",
       "      <td>NaN</td>\n",
       "      <td>Food and Agriculture Organization of the Unite...</td>\n",
       "      <td>True</td>\n",
       "    </tr>\n",
       "    <tr>\n",
       "      <th>31</th>\n",
       "      <td>2</td>\n",
       "      <td>Africa</td>\n",
       "      <td>2016</td>\n",
       "      <td>Food production (Index Base: 2004-2006 = 100)</td>\n",
       "      <td>130.5</td>\n",
       "      <td>NaN</td>\n",
       "      <td>Food and Agriculture Organization of the Unite...</td>\n",
       "      <td>True</td>\n",
       "    </tr>\n",
       "  </tbody>\n",
       "</table>\n",
       "</div>"
      ],
      "text/plain": [
       "    Region/Country/Area Unnamed: 1  Year  \\\n",
       "16                    2     Africa  1975   \n",
       "17                    2     Africa  1985   \n",
       "18                    2     Africa  1995   \n",
       "19                    2     Africa  2005   \n",
       "20                    2     Africa  2010   \n",
       "21                    2     Africa  2014   \n",
       "22                    2     Africa  2015   \n",
       "23                    2     Africa  2016   \n",
       "24                    2     Africa  1975   \n",
       "25                    2     Africa  1985   \n",
       "26                    2     Africa  1995   \n",
       "27                    2     Africa  2005   \n",
       "28                    2     Africa  2010   \n",
       "29                    2     Africa  2014   \n",
       "30                    2     Africa  2015   \n",
       "31                    2     Africa  2016   \n",
       "\n",
       "                                               Series  Value Footnotes  \\\n",
       "16  Agricultural production (Index Base: 2004-2006...   42.6       NaN   \n",
       "17  Agricultural production (Index Base: 2004-2006...   50.4       NaN   \n",
       "18  Agricultural production (Index Base: 2004-2006...   68.8       NaN   \n",
       "19  Agricultural production (Index Base: 2004-2006...  100.0       NaN   \n",
       "20  Agricultural production (Index Base: 2004-2006...  117.0       NaN   \n",
       "21  Agricultural production (Index Base: 2004-2006...  129.0       NaN   \n",
       "22  Agricultural production (Index Base: 2004-2006...  130.8       NaN   \n",
       "23  Agricultural production (Index Base: 2004-2006...  129.9       NaN   \n",
       "24      Food production (Index Base: 2004-2006 = 100)   41.4       NaN   \n",
       "25      Food production (Index Base: 2004-2006 = 100)   49.3       NaN   \n",
       "26      Food production (Index Base: 2004-2006 = 100)   68.3       NaN   \n",
       "27      Food production (Index Base: 2004-2006 = 100)   99.9       NaN   \n",
       "28      Food production (Index Base: 2004-2006 = 100)  117.8       NaN   \n",
       "29      Food production (Index Base: 2004-2006 = 100)  129.7       NaN   \n",
       "30      Food production (Index Base: 2004-2006 = 100)  131.5       NaN   \n",
       "31      Food production (Index Base: 2004-2006 = 100)  130.5       NaN   \n",
       "\n",
       "                                               Source  NaNStatus  \n",
       "16  Food and Agriculture Organization of the Unite...       True  \n",
       "17  Food and Agriculture Organization of the Unite...       True  \n",
       "18  Food and Agriculture Organization of the Unite...       True  \n",
       "19  Food and Agriculture Organization of the Unite...       True  \n",
       "20  Food and Agriculture Organization of the Unite...       True  \n",
       "21  Food and Agriculture Organization of the Unite...       True  \n",
       "22  Food and Agriculture Organization of the Unite...       True  \n",
       "23  Food and Agriculture Organization of the Unite...       True  \n",
       "24  Food and Agriculture Organization of the Unite...       True  \n",
       "25  Food and Agriculture Organization of the Unite...       True  \n",
       "26  Food and Agriculture Organization of the Unite...       True  \n",
       "27  Food and Agriculture Organization of the Unite...       True  \n",
       "28  Food and Agriculture Organization of the Unite...       True  \n",
       "29  Food and Agriculture Organization of the Unite...       True  \n",
       "30  Food and Agriculture Organization of the Unite...       True  \n",
       "31  Food and Agriculture Organization of the Unite...       True  "
      ]
     },
     "execution_count": 13,
     "metadata": {},
     "output_type": "execute_result"
    }
   ],
   "source": [
    "data.loc[ data['Unnamed: 1']== 'Africa' ]"
   ]
  },
  {
   "cell_type": "code",
   "execution_count": 14,
   "id": "bc245451",
   "metadata": {},
   "outputs": [
    {
     "name": "stdout",
     "output_type": "stream",
     "text": [
      "African Regions: ['Africa', 'Northern Africa', 'Eastern Africa', 'Middle Africa', 'Southern Africa', 'Western Africa', 'Central African Republic', 'South Africa']\n"
     ]
    }
   ],
   "source": [
    "data.rename(columns={\"Unnamed: 1\": \"region\"},inplace=True)\n",
    "africa_regions=[i for i in list(data['region'].unique()) if \"Africa\" in i]\n",
    "print(f\"African Regions: {africa_regions}\")"
   ]
  },
  {
   "cell_type": "markdown",
   "id": "57495fa3",
   "metadata": {},
   "source": [
    "# 1.How has the East African region performed in agricultural and food production throughout the years in comparison to other African regions?"
   ]
  },
  {
   "cell_type": "markdown",
   "id": "326b9192",
   "metadata": {},
   "source": [
    "# 2.1. In which year does East Africa perform well and bad  in Agriculture ?  "
   ]
  },
  {
   "cell_type": "markdown",
   "id": "b8503f23",
   "metadata": {},
   "source": [
    "# 2.2. In which year does East Africa perform well and bad in Food production"
   ]
  },
  {
   "cell_type": "markdown",
   "id": "764e967c",
   "metadata": {},
   "source": [
    "# 3.1 What is the best and last EAC(East african community) country in Agricultural production from 2016 ?\n",
    "\n",
    "# 3.2 What is the best and last EAC country in Food production from 2016?"
   ]
  },
  {
   "cell_type": "markdown",
   "id": "5d2dbe44",
   "metadata": {},
   "source": [
    "# 4. Does the performance in Agriculture contribute to the performance of food production in East Africa?"
   ]
  },
  {
   "cell_type": "markdown",
   "id": "f7974320",
   "metadata": {},
   "source": [
    "# 5.Performance of Rwanda compared to other countries in easter african community"
   ]
  },
  {
   "cell_type": "code",
   "execution_count": 15,
   "id": "1cbf7bdf",
   "metadata": {},
   "outputs": [],
   "source": [
    "#encoding agriculture -0 and food-1\n",
    "encoder=LabelEncoder()\n",
    "data['Series']=encoder.fit_transform(data['Series'])"
   ]
  },
  {
   "cell_type": "markdown",
   "id": "21f354a7",
   "metadata": {},
   "source": [
    "# General visualisation of entire dataset, Trends,Outliers and correlation"
   ]
  },
  {
   "cell_type": "code",
   "execution_count": 16,
   "id": "5892b546",
   "metadata": {},
   "outputs": [],
   "source": [
    "food_data=data.loc[ data['Series'] == 1 ]\n",
    "agriculture_data=data.loc[ data['Series'] == 0 ]"
   ]
  },
  {
   "cell_type": "code",
   "execution_count": 17,
   "id": "27cccf30",
   "metadata": {},
   "outputs": [
    {
     "data": {
      "image/png": "[encoded data removed]",
      "text/plain": [
       "<Figure size 960x480 with 1 Axes>"
      ]
     },
     "metadata": {
      "needs_background": "light"
     },
     "output_type": "display_data"
    }
   ],
   "source": [
    "plt.figure(figsize=(12, 6), dpi=80)\n",
    "plt.scatter(agriculture_data['Value'],agriculture_data['Value'],marker='x', cmap='rainbow',linewidth=7, label='agriculture')\n",
    "plt.scatter(food_data['Value'],food_data['Value'], cmap='g',marker='*',label='food')\n",
    "plt.title('The graph showing the relationship between Agriculture and Food production in all region \\n', color='b')\n",
    "plt.xlabel('Agriculture production', color='b')\n",
    "plt.ylabel('Food production', color='b')\n",
    "plt.legend()\n",
    "plt.show()"
   ]
  },
  {
   "cell_type": "markdown",
   "id": "95b522e0",
   "metadata": {},
   "source": [
    "#There is a strong positive correlation between Agricultural and food production\n",
    "#The above 4 points in the graph above are the outliers"
   ]
  },
  {
   "cell_type": "code",
   "execution_count": 18,
   "id": "db241bd2",
   "metadata": {},
   "outputs": [
    {
     "data": {
      "image/png": "[encoded data removed]",
      "text/plain": [
       "<Figure size 960x480 with 1 Axes>"
      ]
     },
     "metadata": {
      "needs_background": "light"
     },
     "output_type": "display_data"
    }
   ],
   "source": [
    "x1=food_data['Year']\n",
    "x2=agriculture_data['Year']\n",
    "\n",
    "plt.figure(figsize=(12, 6), dpi=80)\n",
    "plt.scatter(x2,agriculture_data['Value'], color='r', label='Agriculture')\n",
    "plt.scatter(x1+0.25,food_data['Value'], color='g', label='Food production')\n",
    "plt.xticks(x2, rotation=70)\n",
    "plt.title('Time series of worldwide Agricultural and Food production 1975-2016 \\n', color='b')\n",
    "plt.xlabel('Years',color='b')\n",
    "plt.ylabel('Values',color='b')\n",
    "plt.legend()\n",
    "plt.show()"
   ]
  },
  {
   "cell_type": "code",
   "execution_count": 19,
   "id": "ce847375",
   "metadata": {},
   "outputs": [],
   "source": [
    "africa_data = data[data['region'].isin(africa_regions)]"
   ]
  },
  {
   "cell_type": "code",
   "execution_count": 20,
   "id": "3f2805cd",
   "metadata": {},
   "outputs": [
    {
     "data": {
      "image/png": "[encoded data removed]",
      "text/plain": [
       "<Figure size 1200x640 with 1 Axes>"
      ]
     },
     "metadata": {
      "needs_background": "light"
     },
     "output_type": "display_data"
    }
   ],
   "source": [
    "plt.figure(figsize=(15, 8), dpi=80)\n",
    "africa_data = data[data['region'].isin(africa_regions)]\n",
    "\n",
    "# Get agricultural data\n",
    "africa_agri=africa_data[africa_data['Series']==0]\n",
    "\n",
    "sns.scatterplot(x='Year', y='Value', data=africa_agri, hue='region')\n",
    "plt.xlabel('Year', color='b')\n",
    "plt.ylabel('Values', color='b')\n",
    "plt.title('Trend - Time Series of African regions Agricultural production in 1975-2016 \\n', color='b')\n",
    "\n",
    "plt.show()"
   ]
  },
  {
   "cell_type": "markdown",
   "id": "ec50ec24",
   "metadata": {},
   "source": [
    "#The is a general increasing Trend in agriculture from 1975 to 2016"
   ]
  },
  {
   "cell_type": "code",
   "execution_count": 21,
   "id": "19527722",
   "metadata": {},
   "outputs": [
    {
     "data": {
      "image/png": "[encoded data removed]",
      "text/plain": [
       "<Figure size 1200x640 with 1 Axes>"
      ]
     },
     "metadata": {
      "needs_background": "light"
     },
     "output_type": "display_data"
    }
   ],
   "source": [
    "plt.figure(figsize=(15, 8), dpi=80)\n",
    "africa_data = data[data['region'].isin(africa_regions)]\n",
    "\n",
    "# Get food data\n",
    "africa_agri=africa_data[africa_data['Series']==1]\n",
    "\n",
    "sns.scatterplot(x='Year', y='Value', data=africa_agri, hue='region')\n",
    "plt.xlabel('Year', color='b')\n",
    "plt.ylabel('Agricultural production index', color='b')\n",
    "plt.title('African regions Food production graph since 1975-2016 \\n', color='g')\n",
    "\n",
    "plt.show()"
   ]
  },
  {
   "cell_type": "markdown",
   "id": "4e066ef0",
   "metadata": {},
   "source": [
    "# Responding to our questions through visual graphics including trends and patterns."
   ]
  },
  {
   "cell_type": "markdown",
   "id": "3fcf8570",
   "metadata": {},
   "source": [
    "# 1.how has been the agricultural & food production in African regions from 1975 to 2016?"
   ]
  },
  {
   "cell_type": "code",
   "execution_count": 22,
   "id": "2b40cf2d",
   "metadata": {},
   "outputs": [],
   "source": [
    "africa_df=africa_data[['region','Year','Series','Value']]"
   ]
  },
  {
   "cell_type": "code",
   "execution_count": 23,
   "id": "5612735e",
   "metadata": {},
   "outputs": [],
   "source": [
    "#Agricultural index"
   ]
  },
  {
   "cell_type": "code",
   "execution_count": 24,
   "id": "41588512",
   "metadata": {},
   "outputs": [],
   "source": [
    "africa_agri=africa_df.loc[ africa_df['Series'] == 0 ]"
   ]
  },
  {
   "cell_type": "code",
   "execution_count": 25,
   "id": "a5785418",
   "metadata": {},
   "outputs": [],
   "source": [
    "africa_agri=africa_agri.reset_index()"
   ]
  },
  {
   "cell_type": "code",
   "execution_count": 26,
   "id": "4c0981b0",
   "metadata": {},
   "outputs": [],
   "source": [
    "africa_agri=africa_agri[['region','Year','Value']]"
   ]
  },
  {
   "cell_type": "code",
   "execution_count": 27,
   "id": "50603c46",
   "metadata": {},
   "outputs": [
    {
     "data": {
      "text/html": [
       "<div>\n",
       "<style scoped>\n",
       "    .dataframe tbody tr th:only-of-type {\n",
       "        vertical-align: middle;\n",
       "    }\n",
       "\n",
       "    .dataframe tbody tr th {\n",
       "        vertical-align: top;\n",
       "    }\n",
       "\n",
       "    .dataframe thead th {\n",
       "        text-align: right;\n",
       "    }\n",
       "</style>\n",
       "<table border=\"1\" class=\"dataframe\">\n",
       "  <thead>\n",
       "    <tr style=\"text-align: right;\">\n",
       "      <th></th>\n",
       "      <th>region</th>\n",
       "      <th>1975</th>\n",
       "      <th>1985</th>\n",
       "      <th>1995</th>\n",
       "      <th>2005</th>\n",
       "      <th>2010</th>\n",
       "      <th>2014</th>\n",
       "      <th>2015</th>\n",
       "      <th>2016</th>\n",
       "    </tr>\n",
       "  </thead>\n",
       "  <tbody>\n",
       "    <tr>\n",
       "      <th>0</th>\n",
       "      <td>Africa</td>\n",
       "      <td>42.6</td>\n",
       "      <td>50.4</td>\n",
       "      <td>68.8</td>\n",
       "      <td>100.0</td>\n",
       "      <td>117.0</td>\n",
       "      <td>129.0</td>\n",
       "      <td>130.8</td>\n",
       "      <td>129.9</td>\n",
       "    </tr>\n",
       "    <tr>\n",
       "      <th>1</th>\n",
       "      <td>Central African Republic</td>\n",
       "      <td>50.6</td>\n",
       "      <td>56.6</td>\n",
       "      <td>77.8</td>\n",
       "      <td>101.3</td>\n",
       "      <td>114.8</td>\n",
       "      <td>117.5</td>\n",
       "      <td>120.3</td>\n",
       "      <td>121.9</td>\n",
       "    </tr>\n",
       "    <tr>\n",
       "      <th>2</th>\n",
       "      <td>Eastern Africa</td>\n",
       "      <td>51.9</td>\n",
       "      <td>59.9</td>\n",
       "      <td>70.7</td>\n",
       "      <td>99.6</td>\n",
       "      <td>123.9</td>\n",
       "      <td>143.4</td>\n",
       "      <td>144.8</td>\n",
       "      <td>140.0</td>\n",
       "    </tr>\n",
       "    <tr>\n",
       "      <th>3</th>\n",
       "      <td>Middle Africa</td>\n",
       "      <td>56.7</td>\n",
       "      <td>64.6</td>\n",
       "      <td>78.1</td>\n",
       "      <td>102.0</td>\n",
       "      <td>132.1</td>\n",
       "      <td>140.5</td>\n",
       "      <td>143.3</td>\n",
       "      <td>149.6</td>\n",
       "    </tr>\n",
       "    <tr>\n",
       "      <th>4</th>\n",
       "      <td>Northern Africa</td>\n",
       "      <td>36.1</td>\n",
       "      <td>46.2</td>\n",
       "      <td>63.7</td>\n",
       "      <td>98.7</td>\n",
       "      <td>112.2</td>\n",
       "      <td>116.5</td>\n",
       "      <td>119.5</td>\n",
       "      <td>118.4</td>\n",
       "    </tr>\n",
       "    <tr>\n",
       "      <th>5</th>\n",
       "      <td>South Africa</td>\n",
       "      <td>65.1</td>\n",
       "      <td>74.8</td>\n",
       "      <td>74.1</td>\n",
       "      <td>103.1</td>\n",
       "      <td>116.7</td>\n",
       "      <td>125.9</td>\n",
       "      <td>121.6</td>\n",
       "      <td>116.6</td>\n",
       "    </tr>\n",
       "    <tr>\n",
       "      <th>6</th>\n",
       "      <td>Southern Africa</td>\n",
       "      <td>65.1</td>\n",
       "      <td>74.7</td>\n",
       "      <td>76.0</td>\n",
       "      <td>103.1</td>\n",
       "      <td>115.5</td>\n",
       "      <td>124.2</td>\n",
       "      <td>119.9</td>\n",
       "      <td>115.4</td>\n",
       "    </tr>\n",
       "    <tr>\n",
       "      <th>7</th>\n",
       "      <td>Western Africa</td>\n",
       "      <td>33.8</td>\n",
       "      <td>39.3</td>\n",
       "      <td>68.1</td>\n",
       "      <td>100.3</td>\n",
       "      <td>113.1</td>\n",
       "      <td>127.6</td>\n",
       "      <td>129.8</td>\n",
       "      <td>130.8</td>\n",
       "    </tr>\n",
       "  </tbody>\n",
       "</table>\n",
       "</div>"
      ],
      "text/plain": [
       "                     region  1975  1985  1995   2005   2010   2014   2015  \\\n",
       "0                    Africa  42.6  50.4  68.8  100.0  117.0  129.0  130.8   \n",
       "1  Central African Republic  50.6  56.6  77.8  101.3  114.8  117.5  120.3   \n",
       "2            Eastern Africa  51.9  59.9  70.7   99.6  123.9  143.4  144.8   \n",
       "3             Middle Africa  56.7  64.6  78.1  102.0  132.1  140.5  143.3   \n",
       "4           Northern Africa  36.1  46.2  63.7   98.7  112.2  116.5  119.5   \n",
       "5              South Africa  65.1  74.8  74.1  103.1  116.7  125.9  121.6   \n",
       "6           Southern Africa  65.1  74.7  76.0  103.1  115.5  124.2  119.9   \n",
       "7            Western Africa  33.8  39.3  68.1  100.3  113.1  127.6  129.8   \n",
       "\n",
       "    2016  \n",
       "0  129.9  \n",
       "1  121.9  \n",
       "2  140.0  \n",
       "3  149.6  \n",
       "4  118.4  \n",
       "5  116.6  \n",
       "6  115.4  \n",
       "7  130.8  "
      ]
     },
     "execution_count": 27,
     "metadata": {},
     "output_type": "execute_result"
    }
   ],
   "source": [
    "#pivot table showing agricultural production index in All african Regions\n",
    "african_agri_pivot=africa_agri.pivot(*africa_agri).rename_axis(columns=None).reset_index() \n",
    "african_agri_pivot"
   ]
  },
  {
   "cell_type": "code",
   "execution_count": 28,
   "id": "4d29a47a",
   "metadata": {},
   "outputs": [],
   "source": [
    "africa_agri_group=african_agri_pivot.groupby('region')"
   ]
  },
  {
   "cell_type": "code",
   "execution_count": 29,
   "id": "15a52f31",
   "metadata": {},
   "outputs": [],
   "source": [
    "EA=africa_agri_group.get_group('Eastern Africa').T[2].reset_index().iloc[1:, :].rename(columns = {'index':'year',2:'agriculture'})"
   ]
  },
  {
   "cell_type": "code",
   "execution_count": null,
   "id": "c4f1c7bc",
   "metadata": {},
   "outputs": [],
   "source": []
  },
  {
   "cell_type": "code",
   "execution_count": 30,
   "id": "9e02058e",
   "metadata": {},
   "outputs": [],
   "source": [
    "SA=africa_agri_group.get_group('Southern Africa').T[6].reset_index().iloc[1:, :].rename(columns = {'index':'year',6:'agriculture'})"
   ]
  },
  {
   "cell_type": "code",
   "execution_count": 31,
   "id": "7c6196c5",
   "metadata": {},
   "outputs": [],
   "source": [
    "WA=africa_agri_group.get_group('Western Africa').T[7].reset_index().iloc[1:, :].rename(columns = {'index':'year',7:'agriculture'})"
   ]
  },
  {
   "cell_type": "code",
   "execution_count": 32,
   "id": "2e2d1939",
   "metadata": {},
   "outputs": [],
   "source": [
    "NA=africa_agri_group.get_group('Northern Africa').T[4].reset_index().iloc[1:, :].rename(columns = {'index':'year',4:'agriculture'})"
   ]
  },
  {
   "cell_type": "code",
   "execution_count": 33,
   "id": "902f9df8",
   "metadata": {},
   "outputs": [
    {
     "data": {
      "image/png": "[encoded data removed]",
      "text/plain": [
       "<Figure size 1600x800 with 1 Axes>"
      ]
     },
     "metadata": {
      "needs_background": "light"
     },
     "output_type": "display_data"
    }
   ],
   "source": [
    "#Plot of Agricultural production index\n",
    "plt.figure(figsize=(20,10),dpi=80)\n",
    "plt.bar(EA['year'], EA['agriculture'], width=0.2, color='r', label='Eastern Africa')\n",
    "plt.bar(SA['year']+0.20, SA['agriculture'], width=0.2, color='b', label='Southern Africa')\n",
    "plt.bar(WA['year']+0.40, WA['agriculture'], width=0.2, color='y', label='Western Africa')\n",
    "plt.bar(NA['year']+0.60, NA['agriculture'], width=0.2, color='black', label='Northern Africa')\n",
    "plt.title(' figure1: Agricultural production index in African regions from 1975-2016 \\n', color='g')\n",
    "plt.xlabel('Year', color='g')\n",
    "plt.xticks(x2, rotation=70)\n",
    "plt.ylabel('Agricultural Production', color='g')\n",
    "plt.legend()\n",
    "plt.show()"
   ]
  },
  {
   "cell_type": "code",
   "execution_count": 34,
   "id": "0516b9ca",
   "metadata": {},
   "outputs": [],
   "source": [
    "#Food production index"
   ]
  },
  {
   "cell_type": "code",
   "execution_count": 35,
   "id": "7e91373d",
   "metadata": {},
   "outputs": [],
   "source": [
    "africa_foo=africa_df.loc[ africa_df['Series'] == 1 ]\n",
    "africa_foo=africa_foo.reset_index()\n",
    "africa_foo=africa_foo[['region','Year','Value']]\n",
    "african_foo_pivot=africa_foo.pivot(*africa_foo).rename_axis(columns=None).reset_index() \n",
    "africa_foo_group=african_foo_pivot.groupby('region')\n",
    "EAF=africa_foo_group.get_group('Eastern Africa').T[2].reset_index().iloc[1:, :].rename(columns = {'index':'year',2:'food'})\n",
    "SAF=africa_foo_group.get_group('Southern Africa').T[6].reset_index().iloc[1:, :].rename(columns = {'index':'year',6:'food'})\n",
    "WAF=africa_foo_group.get_group('Western Africa').T[7].reset_index().iloc[1:, :].rename(columns = {'index':'year',7:'food'})\n",
    "NAF=africa_foo_group.get_group('Northern Africa').T[4].reset_index().iloc[1:, :].rename(columns = {'index':'year',4:'food'})"
   ]
  },
  {
   "cell_type": "code",
   "execution_count": 36,
   "id": "70a64adc",
   "metadata": {},
   "outputs": [
    {
     "data": {
      "image/png": "[encoded data removed]",
      "text/plain": [
       "<Figure size 1440x720 with 1 Axes>"
      ]
     },
     "metadata": {
      "needs_background": "light"
     },
     "output_type": "display_data"
    }
   ],
   "source": [
    "#Plot of Food production index\n",
    "plt.figure(figsize=(20,10))\n",
    "plt.bar(EAF['year'], EAF['food'], width=0.2, color='r', label='Eastern Africa')\n",
    "plt.bar(SAF['year']+0.20, SAF['food'], width=0.2, color='b', label='Southern Africa')\n",
    "plt.bar(WAF['year']+0.40, WAF['food'], width=0.2, color='y', label='Western Africa')\n",
    "plt.bar(NAF['year']+0.60, NAF['food'], width=0.2, color='black', label='Northern Africa')\n",
    "plt.title(' figure2: Food production index in African regions from 1975-2016 \\n', color='g')\n",
    "plt.xlabel('Year', color='g')\n",
    "plt.ylabel('Food Production', color='g')\n",
    "plt.legend()\n",
    "plt.show()\n",
    "# plt.xticks(EA['year']);"
   ]
  },
  {
   "cell_type": "markdown",
   "id": "ac321fd3",
   "metadata": {},
   "source": [
    "# 2.1 In which year does East Africa perform well and bad  in Agriculture ?"
   ]
  },
  {
   "cell_type": "code",
   "execution_count": 37,
   "id": "a5cdc8f0",
   "metadata": {},
   "outputs": [
    {
     "data": {
      "image/png": "[encoded data removed]",
      "text/plain": [
       "<Figure size 1584x576 with 1 Axes>"
      ]
     },
     "metadata": {
      "needs_background": "light"
     },
     "output_type": "display_data"
    }
   ],
   "source": [
    "plt.figure(figsize=(22, 8))\n",
    "plt.plot(EA['year'], EA['agriculture'], color='Blue', label='Easter Africa',linewidth=1)\n",
    "# plt.plot(SA['year'], SA['agriculture'], color='r', label='Southern Africa',linewidth=1)\n",
    "# plt.plot(WA['year'], WA['agriculture'], color='y', label='Western Africa',linewidth=1)\n",
    "# plt.plot(NA['year'], NA['agriculture'], color='black', label='Northern Africa',linewidth=1)\n",
    "plt.title('Figure3: Time series of Agricultural production in Easter Africa')\n",
    "plt.xlabel('Year', color='b')\n",
    "plt.ylabel('Agriculture Production', color='b')\n",
    "plt.legend()\n",
    "plt.show()\n",
    "#plt.xticks(merged_af_p['Year']);"
   ]
  },
  {
   "cell_type": "markdown",
   "id": "94c2111e",
   "metadata": {},
   "source": [
    "# 2.2 In which year does East Africa perform well and bad in Food production"
   ]
  },
  {
   "cell_type": "code",
   "execution_count": 38,
   "id": "23d6be63",
   "metadata": {},
   "outputs": [
    {
     "data": {
      "image/png": "[encoded data removed]",
      "text/plain": [
       "<Figure size 1584x576 with 1 Axes>"
      ]
     },
     "metadata": {
      "needs_background": "light"
     },
     "output_type": "display_data"
    }
   ],
   "source": [
    "plt.figure(figsize=(22, 8))\n",
    "plt.plot(EAF['year'], EAF['food'], color='Blue', label='Easter Africa',linewidth=1)\n",
    "# plt.plot(SAF['year'], SAF['food'], color='r', label='Southern Africa',linewidth=1)\n",
    "# plt.plot(WAF['year'], WAF['food'], color='y', label='Western Africa',linewidth=1)\n",
    "# plt.plot(NAF['year'], NAF['food'], color='black', label='Northern Africa',linewidth=1)\n",
    "plt.title('Figure4: Time series of Food production in East Africa region',color='b')\n",
    "plt.xlabel('Year', color='b')\n",
    "plt.ylabel('Food Production', color='b')\n",
    "plt.legend()\n",
    "plt.show()\n",
    "#plt.xticks(merged_af_p['Year']);"
   ]
  },
  {
   "cell_type": "markdown",
   "id": "2e307ef1",
   "metadata": {},
   "source": [
    "# East african community excluding south sudan and tanzania cuz no data"
   ]
  },
  {
   "cell_type": "code",
   "execution_count": 39,
   "id": "7e18fcdd",
   "metadata": {},
   "outputs": [],
   "source": [
    "EAC_countries=['Rwanda','Kenya','Tanzania','Burundi','Uganda']"
   ]
  },
  {
   "cell_type": "code",
   "execution_count": 40,
   "id": "127d0e54",
   "metadata": {},
   "outputs": [],
   "source": [
    "EAC_data = data[data['region'].isin(EAC_countries)]"
   ]
  },
  {
   "cell_type": "code",
   "execution_count": 41,
   "id": "a0318fae",
   "metadata": {},
   "outputs": [],
   "source": [
    "EAC_agri=EAC_data.loc[EAC_data['Series']==0]\n",
    "EAC_agri=EAC_agri[EAC_agri['Year'] >=2010]"
   ]
  },
  {
   "cell_type": "code",
   "execution_count": 42,
   "id": "eef3723a",
   "metadata": {},
   "outputs": [],
   "source": [
    "EAC_food=EAC_data.loc[EAC_data['Series']==1]\n",
    "EAC_food=EAC_food[EAC_food['Year'] >=2010]"
   ]
  },
  {
   "cell_type": "markdown",
   "id": "48fbbe56",
   "metadata": {},
   "source": [
    "# 3.1 What is the best and last EAC country in Agricultural production from 2010-2016 ?"
   ]
  },
  {
   "cell_type": "code",
   "execution_count": 43,
   "id": "629f4935",
   "metadata": {},
   "outputs": [
    {
     "data": {
      "image/png": "[encoded data removed]",
      "text/plain": [
       "<Figure size 1200x640 with 1 Axes>"
      ]
     },
     "metadata": {
      "needs_background": "light"
     },
     "output_type": "display_data"
    }
   ],
   "source": [
    "#Plot of Agricultural production index in East African Community\n",
    "# Tanzania and South sudan has no data\n",
    "plt.figure(figsize=(15, 8), dpi=80)\n",
    "sns.scatterplot(x='Year', y='Value', data=EAC_agri, hue='region')\n",
    "plt.xlabel('Year', color='b')\n",
    "plt.ylabel('Values', color='b')\n",
    "plt.title('Figure5: East African Community Agricultural production graph since 2010-2016 \\n', color='g')\n",
    "plt.show()"
   ]
  },
  {
   "cell_type": "markdown",
   "id": "b5584a14",
   "metadata": {},
   "source": [
    "# 3.2 What is the best and last EAC country in Food production ?"
   ]
  },
  {
   "cell_type": "code",
   "execution_count": 44,
   "id": "3adb1494",
   "metadata": {},
   "outputs": [
    {
     "data": {
      "image/png": "[encoded data removed]",
      "text/plain": [
       "<Figure size 1440x720 with 1 Axes>"
      ]
     },
     "metadata": {
      "needs_background": "light"
     },
     "output_type": "display_data"
    }
   ],
   "source": [
    "#Plot of Food production index in East African Community\n",
    "# Tanzania and South sudan has no data\n",
    "plt.figure(figsize=(20,10))\n",
    "plt.bar(EAC_food[ EAC_food['region']=='Rwanda' ]['Year'], EAC_food[ EAC_food['region']=='Rwanda' ]['Value'], width=0.2, color='r',align='center', label='Rwanda')\n",
    "plt.bar(EAC_food[ EAC_food['region']=='Kenya' ]['Year']+0.20, EAC_food[ EAC_food['region']=='Kenya' ]['Value'], width=0.2, color='b', label='Kenya')\n",
    "plt.bar(EAC_food[ EAC_food['region']=='Uganda' ]['Year']+0.40, EAC_food[ EAC_food['region']=='Uganda' ]['Value'], width=0.2, color='y', label='Uganda')\n",
    "plt.bar(EAC_food[ EAC_food['region']=='Burundi' ]['Year']+0.60, EAC_food[ EAC_food['region']=='Burundi' ]['Value'], width=0.2, color='black', label='Burundi')\n",
    "plt.title(' figure6: Food production index EAC from 2010-2016 \\n', color='g')\n",
    "plt.xlabel('Year', color='g')\n",
    "plt.ylabel('Food Production', color='g')\n",
    "plt.legend()\n",
    "plt.show()"
   ]
  },
  {
   "cell_type": "markdown",
   "id": "2230d1cc",
   "metadata": {},
   "source": [
    "# 4. Does the performance in Agriculture contribute to the performance of food production in East Africa?"
   ]
  },
  {
   "cell_type": "code",
   "execution_count": 45,
   "id": "2aedeaff",
   "metadata": {},
   "outputs": [],
   "source": [
    "east_africa = data[data['region']=='Eastern Africa']"
   ]
  },
  {
   "cell_type": "code",
   "execution_count": 46,
   "id": "32d159d0",
   "metadata": {},
   "outputs": [],
   "source": [
    "east_africa_agri=east_africa[ east_africa['Series'] ==0 ]\n",
    "east_africa_agri=east_africa_agri['Value']"
   ]
  },
  {
   "cell_type": "code",
   "execution_count": 47,
   "id": "beca8af5",
   "metadata": {},
   "outputs": [],
   "source": [
    "east_africa_food=east_africa[ east_africa['Series'] ==1 ]\n",
    "east_africa_food=east_africa_food['Value']"
   ]
  },
  {
   "cell_type": "code",
   "execution_count": 48,
   "id": "0f6e5403",
   "metadata": {},
   "outputs": [],
   "source": [
    "#EAC_agri_food=pd.concat(east_africa_agri,east_africa_food)\n",
    "\n",
    "#pd.concat([east_africa_agri, east_africa_food])"
   ]
  },
  {
   "cell_type": "code",
   "execution_count": 49,
   "id": "801e793c",
   "metadata": {},
   "outputs": [],
   "source": [
    "correlation=(pd.DataFrame([list(east_africa_agri),list(east_africa_food)]).T).corr()"
   ]
  },
  {
   "cell_type": "code",
   "execution_count": 50,
   "id": "e6471546",
   "metadata": {},
   "outputs": [
    {
     "name": "stdout",
     "output_type": "stream",
     "text": [
      "Figure7.1: Correlation between Agricultural and food production in East Africa\n"
     ]
    },
    {
     "data": {
      "text/html": [
       "<div>\n",
       "<style scoped>\n",
       "    .dataframe tbody tr th:only-of-type {\n",
       "        vertical-align: middle;\n",
       "    }\n",
       "\n",
       "    .dataframe tbody tr th {\n",
       "        vertical-align: top;\n",
       "    }\n",
       "\n",
       "    .dataframe thead th {\n",
       "        text-align: right;\n",
       "    }\n",
       "</style>\n",
       "<table border=\"1\" class=\"dataframe\">\n",
       "  <thead>\n",
       "    <tr style=\"text-align: right;\">\n",
       "      <th></th>\n",
       "      <th>0</th>\n",
       "      <th>1</th>\n",
       "    </tr>\n",
       "  </thead>\n",
       "  <tbody>\n",
       "    <tr>\n",
       "      <th>0</th>\n",
       "      <td>1.000000</td>\n",
       "      <td>0.999984</td>\n",
       "    </tr>\n",
       "    <tr>\n",
       "      <th>1</th>\n",
       "      <td>0.999984</td>\n",
       "      <td>1.000000</td>\n",
       "    </tr>\n",
       "  </tbody>\n",
       "</table>\n",
       "</div>"
      ],
      "text/plain": [
       "          0         1\n",
       "0  1.000000  0.999984\n",
       "1  0.999984  1.000000"
      ]
     },
     "execution_count": 50,
     "metadata": {},
     "output_type": "execute_result"
    }
   ],
   "source": [
    "#Agriculture-0\n",
    "#Food-1\n",
    "print('Figure7.1: Correlation between Agricultural and food production in East Africa')\n",
    "#sns.heatmap(correlation,annot=True, cmap='Reds',fmt='.3g')\n",
    "correlation"
   ]
  },
  {
   "cell_type": "code",
   "execution_count": 51,
   "id": "f3b3ff83",
   "metadata": {},
   "outputs": [],
   "source": [
    "#There is strong positive relationship between Agriculture and food production in east africa .i.e 0.9\n",
    "fanda=(pd.DataFrame([list(east_africa_agri),list(east_africa_food)]).T)\n",
    "fanda=fanda.rename(columns={0:'agriculture',1:'food'})"
   ]
  },
  {
   "cell_type": "code",
   "execution_count": 52,
   "id": "41aeac57",
   "metadata": {},
   "outputs": [
    {
     "data": {
      "image/png": "[encoded data removed]",
      "text/plain": [
       "<Figure size 1440x720 with 1 Axes>"
      ]
     },
     "metadata": {
      "needs_background": "light"
     },
     "output_type": "display_data"
    }
   ],
   "source": [
    "plt.figure(figsize=(20,10))\n",
    "sns.regplot(x = \"agriculture\", y = \"food\", data = fanda)\n",
    "plt.title(' figure7.2: A graph of Agriculture and Food Production with a regression line \\n', color='g')\n",
    "plt.xlabel('Agricultural Production', color='g')\n",
    "plt.ylabel('Food Production', color='g')\n",
    "plt.show()"
   ]
  },
  {
   "cell_type": "markdown",
   "id": "0b801fb2",
   "metadata": {},
   "source": [
    "# 5. Performance of Rwanda compared to other countries in east african community"
   ]
  },
  {
   "cell_type": "code",
   "execution_count": 53,
   "id": "4b90b00b",
   "metadata": {},
   "outputs": [],
   "source": [
    "eastafricadata=data[data['region'].isin(EAC_countries)]\n",
    "eastafricadata_agri=eastafricadata.loc[eastafricadata['Series']==0]\n",
    "eastafricadata_food=eastafricadata.loc[eastafricadata['Series']==1]"
   ]
  },
  {
   "cell_type": "code",
   "execution_count": 54,
   "id": "d35bc216",
   "metadata": {},
   "outputs": [
    {
     "data": {
      "image/png": "[encoded data removed]",
      "text/plain": [
       "<Figure size 1440x720 with 1 Axes>"
      ]
     },
     "metadata": {
      "needs_background": "light"
     },
     "output_type": "display_data"
    }
   ],
   "source": [
    "#Plot of Food production index in East African Community\n",
    "# Tanzania and South sudan has no data\n",
    "plt.figure(figsize=(20,10))\n",
    "plt.bar(eastafricadata_food[ eastafricadata_food['region']=='Rwanda' ]['Year'], eastafricadata_food[ eastafricadata_food['region']=='Rwanda' ]['Value'], width=0.2, color='r',align='center', label='Rwanda')\n",
    "plt.bar(eastafricadata_food[ eastafricadata_food['region']=='Kenya' ]['Year']+0.20, eastafricadata_food[ eastafricadata_food['region']=='Kenya' ]['Value'], width=0.2, color='b', label='Kenya')\n",
    "plt.bar(eastafricadata_food[ eastafricadata_food['region']=='Uganda' ]['Year']+0.40, eastafricadata_food[ eastafricadata_food['region']=='Uganda' ]['Value'], width=0.2, color='y', label='Uganda')\n",
    "plt.bar(eastafricadata_food[ eastafricadata_food['region']=='Burundi' ]['Year']+0.60, eastafricadata_food[ eastafricadata_food['region']=='Burundi' ]['Value'], width=0.2, color='black', label='Burundi')\n",
    "plt.title(' figure 8.1: Rwanda performance in Food production compared to EAC countries from 1975-2016 \\n', color='g')\n",
    "plt.xlabel('Year', color='g')\n",
    "plt.ylabel('Food Production', color='g')\n",
    "plt.legend()\n",
    "plt.show()"
   ]
  },
  {
   "cell_type": "code",
   "execution_count": 55,
   "id": "9bfc3ee9",
   "metadata": {},
   "outputs": [
    {
     "data": {
      "image/png": "[encoded data removed]",
      "text/plain": [
       "<Figure size 1440x720 with 1 Axes>"
      ]
     },
     "metadata": {
      "needs_background": "light"
     },
     "output_type": "display_data"
    }
   ],
   "source": [
    "#Plot of Agricultural production index in East African Community\n",
    "# Tanzania and South sudan has no data\n",
    "plt.figure(figsize=(20,10))\n",
    "plt.bar(eastafricadata_agri[ eastafricadata_agri['region']=='Rwanda' ]['Year'], eastafricadata_agri[ eastafricadata_agri['region']=='Rwanda' ]['Value'], width=0.2, color='r',align='center', label='Rwanda')\n",
    "plt.bar(eastafricadata_agri[ eastafricadata_agri['region']=='Kenya' ]['Year']+0.20, eastafricadata_agri[ eastafricadata_agri['region']=='Kenya' ]['Value'], width=0.2, color='b', label='Kenya')\n",
    "plt.bar(eastafricadata_agri[ eastafricadata_agri['region']=='Uganda' ]['Year']+0.40, eastafricadata_agri[ eastafricadata_agri['region']=='Uganda' ]['Value'], width=0.2, color='y', label='Uganda')\n",
    "plt.bar(eastafricadata_agri[ eastafricadata_agri['region']=='Burundi' ]['Year']+0.60, eastafricadata_agri[ eastafricadata_agri['region']=='Burundi' ]['Value'], width=0.2, color='black', label='Burundi')\n",
    "plt.title(' figure 8.2: Rwanda performance in Agricultural production compared to EAC countries from 1975-2016 \\n', color='g')\n",
    "plt.xlabel('Year', color='g')\n",
    "plt.ylabel('Agricultural Production', color='g')\n",
    "plt.legend()\n",
    "plt.show()"
   ]
  },
  {
   "cell_type": "code",
   "execution_count": null,
   "id": "4d1fa842",
   "metadata": {},
   "outputs": [],
   "source": []
  }
 ],
 "metadata": {
  "kernelspec": {
   "display_name": "Python 3",
   "language": "python",
   "name": "python3"
  },
  "language_info": {
   "codemirror_mode": {
    "name": "ipython",
    "version": 3
   },
   "file_extension": ".py",
   "mimetype": "text/x-python",
   "name": "python",
   "nbconvert_exporter": "python",
   "pygments_lexer": "ipython3",
   "version": "3.8.8"
  }
 },
 "nbformat": 4,
 "nbformat_minor": 5
}
